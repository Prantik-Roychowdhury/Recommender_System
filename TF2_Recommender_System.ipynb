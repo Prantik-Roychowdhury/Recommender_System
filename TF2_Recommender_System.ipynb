{
  "nbformat": 4,
  "nbformat_minor": 0,
  "metadata": {
    "colab": {
      "provenance": []
    },
    "kernelspec": {
      "name": "python3",
      "display_name": "Python 3"
    },
    "language_info": {
      "name": "python"
    }
  },
  "cells": [
    {
      "cell_type": "code",
      "execution_count": null,
      "metadata": {
        "id": "Nmg29oJqy7ub"
      },
      "outputs": [],
      "source": [
        "import tensorflow as tf\n",
        "from tensorflow.keras.layers import Input, Dense, Embedding, Flatten, \\\n",
        "  Concatenate\n",
        "from tensorflow.keras.models import Model\n",
        "from tensorflow.keras.optimizers import SGD, Adam\n",
        "\n",
        "from sklearn.utils import shuffle\n",
        "\n",
        "import numpy as np\n",
        "import pandas as pd\n",
        "import matplotlib.pyplot as plt"
      ]
    },
    {
      "cell_type": "code",
      "source": [
        "!wget -nc http://files.grouplens.org/datasets/movielens/ml-20m.zip"
      ],
      "metadata": {
        "colab": {
          "base_uri": "https://localhost:8080/"
        },
        "id": "CmJoyRmwzZer",
        "outputId": "87ec0b58-af8b-4cc6-d2db-18201cd1d991"
      },
      "execution_count": null,
      "outputs": [
        {
          "output_type": "stream",
          "name": "stdout",
          "text": [
            "File ‘ml-20m.zip’ already there; not retrieving.\n",
            "\n"
          ]
        }
      ]
    },
    {
      "cell_type": "code",
      "source": [
        "!unzip -n ml-20m.zip"
      ],
      "metadata": {
        "colab": {
          "base_uri": "https://localhost:8080/"
        },
        "id": "yx9ZieAGzboL",
        "outputId": "d482d4c5-665f-4d47-be64-78088a765271"
      },
      "execution_count": null,
      "outputs": [
        {
          "output_type": "stream",
          "name": "stdout",
          "text": [
            "Archive:  ml-20m.zip\n"
          ]
        }
      ]
    },
    {
      "cell_type": "code",
      "source": [
        "!ls"
      ],
      "metadata": {
        "colab": {
          "base_uri": "https://localhost:8080/"
        },
        "id": "RXtRwcXqzgTw",
        "outputId": "250afef1-41d7-4342-f214-76244414ba96"
      },
      "execution_count": null,
      "outputs": [
        {
          "output_type": "stream",
          "name": "stdout",
          "text": [
            "ml-20m\tml-20m.zip  sample_data\n"
          ]
        }
      ]
    },
    {
      "cell_type": "code",
      "source": [
        "df = pd.read_csv('ml-20m/ratings.csv')\n",
        "df.head()"
      ],
      "metadata": {
        "colab": {
          "base_uri": "https://localhost:8080/",
          "height": 206
        },
        "id": "vfzWakhMzj6p",
        "outputId": "5fc334c8-9aab-49c9-c114-6149a8761819"
      },
      "execution_count": null,
      "outputs": [
        {
          "output_type": "execute_result",
          "data": {
            "text/plain": [
              "   userId  movieId  rating   timestamp\n",
              "0       1        2     3.5  1112486027\n",
              "1       1       29     3.5  1112484676\n",
              "2       1       32     3.5  1112484819\n",
              "3       1       47     3.5  1112484727\n",
              "4       1       50     3.5  1112484580"
            ],
            "text/html": [
              "\n",
              "  <div id=\"df-39913f22-7a81-4f22-8504-a30493715530\" class=\"colab-df-container\">\n",
              "    <div>\n",
              "<style scoped>\n",
              "    .dataframe tbody tr th:only-of-type {\n",
              "        vertical-align: middle;\n",
              "    }\n",
              "\n",
              "    .dataframe tbody tr th {\n",
              "        vertical-align: top;\n",
              "    }\n",
              "\n",
              "    .dataframe thead th {\n",
              "        text-align: right;\n",
              "    }\n",
              "</style>\n",
              "<table border=\"1\" class=\"dataframe\">\n",
              "  <thead>\n",
              "    <tr style=\"text-align: right;\">\n",
              "      <th></th>\n",
              "      <th>userId</th>\n",
              "      <th>movieId</th>\n",
              "      <th>rating</th>\n",
              "      <th>timestamp</th>\n",
              "    </tr>\n",
              "  </thead>\n",
              "  <tbody>\n",
              "    <tr>\n",
              "      <th>0</th>\n",
              "      <td>1</td>\n",
              "      <td>2</td>\n",
              "      <td>3.5</td>\n",
              "      <td>1112486027</td>\n",
              "    </tr>\n",
              "    <tr>\n",
              "      <th>1</th>\n",
              "      <td>1</td>\n",
              "      <td>29</td>\n",
              "      <td>3.5</td>\n",
              "      <td>1112484676</td>\n",
              "    </tr>\n",
              "    <tr>\n",
              "      <th>2</th>\n",
              "      <td>1</td>\n",
              "      <td>32</td>\n",
              "      <td>3.5</td>\n",
              "      <td>1112484819</td>\n",
              "    </tr>\n",
              "    <tr>\n",
              "      <th>3</th>\n",
              "      <td>1</td>\n",
              "      <td>47</td>\n",
              "      <td>3.5</td>\n",
              "      <td>1112484727</td>\n",
              "    </tr>\n",
              "    <tr>\n",
              "      <th>4</th>\n",
              "      <td>1</td>\n",
              "      <td>50</td>\n",
              "      <td>3.5</td>\n",
              "      <td>1112484580</td>\n",
              "    </tr>\n",
              "  </tbody>\n",
              "</table>\n",
              "</div>\n",
              "    <div class=\"colab-df-buttons\">\n",
              "\n",
              "  <div class=\"colab-df-container\">\n",
              "    <button class=\"colab-df-convert\" onclick=\"convertToInteractive('df-39913f22-7a81-4f22-8504-a30493715530')\"\n",
              "            title=\"Convert this dataframe to an interactive table.\"\n",
              "            style=\"display:none;\">\n",
              "\n",
              "  <svg xmlns=\"http://www.w3.org/2000/svg\" height=\"24px\" viewBox=\"0 -960 960 960\">\n",
              "    <path d=\"M120-120v-720h720v720H120Zm60-500h600v-160H180v160Zm220 220h160v-160H400v160Zm0 220h160v-160H400v160ZM180-400h160v-160H180v160Zm440 0h160v-160H620v160ZM180-180h160v-160H180v160Zm440 0h160v-160H620v160Z\"/>\n",
              "  </svg>\n",
              "    </button>\n",
              "\n",
              "  <style>\n",
              "    .colab-df-container {\n",
              "      display:flex;\n",
              "      gap: 12px;\n",
              "    }\n",
              "\n",
              "    .colab-df-convert {\n",
              "      background-color: #E8F0FE;\n",
              "      border: none;\n",
              "      border-radius: 50%;\n",
              "      cursor: pointer;\n",
              "      display: none;\n",
              "      fill: #1967D2;\n",
              "      height: 32px;\n",
              "      padding: 0 0 0 0;\n",
              "      width: 32px;\n",
              "    }\n",
              "\n",
              "    .colab-df-convert:hover {\n",
              "      background-color: #E2EBFA;\n",
              "      box-shadow: 0px 1px 2px rgba(60, 64, 67, 0.3), 0px 1px 3px 1px rgba(60, 64, 67, 0.15);\n",
              "      fill: #174EA6;\n",
              "    }\n",
              "\n",
              "    .colab-df-buttons div {\n",
              "      margin-bottom: 4px;\n",
              "    }\n",
              "\n",
              "    [theme=dark] .colab-df-convert {\n",
              "      background-color: #3B4455;\n",
              "      fill: #D2E3FC;\n",
              "    }\n",
              "\n",
              "    [theme=dark] .colab-df-convert:hover {\n",
              "      background-color: #434B5C;\n",
              "      box-shadow: 0px 1px 3px 1px rgba(0, 0, 0, 0.15);\n",
              "      filter: drop-shadow(0px 1px 2px rgba(0, 0, 0, 0.3));\n",
              "      fill: #FFFFFF;\n",
              "    }\n",
              "  </style>\n",
              "\n",
              "    <script>\n",
              "      const buttonEl =\n",
              "        document.querySelector('#df-39913f22-7a81-4f22-8504-a30493715530 button.colab-df-convert');\n",
              "      buttonEl.style.display =\n",
              "        google.colab.kernel.accessAllowed ? 'block' : 'none';\n",
              "\n",
              "      async function convertToInteractive(key) {\n",
              "        const element = document.querySelector('#df-39913f22-7a81-4f22-8504-a30493715530');\n",
              "        const dataTable =\n",
              "          await google.colab.kernel.invokeFunction('convertToInteractive',\n",
              "                                                    [key], {});\n",
              "        if (!dataTable) return;\n",
              "\n",
              "        const docLinkHtml = 'Like what you see? Visit the ' +\n",
              "          '<a target=\"_blank\" href=https://colab.research.google.com/notebooks/data_table.ipynb>data table notebook</a>'\n",
              "          + ' to learn more about interactive tables.';\n",
              "        element.innerHTML = '';\n",
              "        dataTable['output_type'] = 'display_data';\n",
              "        await google.colab.output.renderOutput(dataTable, element);\n",
              "        const docLink = document.createElement('div');\n",
              "        docLink.innerHTML = docLinkHtml;\n",
              "        element.appendChild(docLink);\n",
              "      }\n",
              "    </script>\n",
              "  </div>\n",
              "\n",
              "\n",
              "<div id=\"df-855ca534-6dd7-4acd-aed1-24e7605f59c9\">\n",
              "  <button class=\"colab-df-quickchart\" onclick=\"quickchart('df-855ca534-6dd7-4acd-aed1-24e7605f59c9')\"\n",
              "            title=\"Suggest charts\"\n",
              "            style=\"display:none;\">\n",
              "\n",
              "<svg xmlns=\"http://www.w3.org/2000/svg\" height=\"24px\"viewBox=\"0 0 24 24\"\n",
              "     width=\"24px\">\n",
              "    <g>\n",
              "        <path d=\"M19 3H5c-1.1 0-2 .9-2 2v14c0 1.1.9 2 2 2h14c1.1 0 2-.9 2-2V5c0-1.1-.9-2-2-2zM9 17H7v-7h2v7zm4 0h-2V7h2v10zm4 0h-2v-4h2v4z\"/>\n",
              "    </g>\n",
              "</svg>\n",
              "  </button>\n",
              "\n",
              "<style>\n",
              "  .colab-df-quickchart {\n",
              "      --bg-color: #E8F0FE;\n",
              "      --fill-color: #1967D2;\n",
              "      --hover-bg-color: #E2EBFA;\n",
              "      --hover-fill-color: #174EA6;\n",
              "      --disabled-fill-color: #AAA;\n",
              "      --disabled-bg-color: #DDD;\n",
              "  }\n",
              "\n",
              "  [theme=dark] .colab-df-quickchart {\n",
              "      --bg-color: #3B4455;\n",
              "      --fill-color: #D2E3FC;\n",
              "      --hover-bg-color: #434B5C;\n",
              "      --hover-fill-color: #FFFFFF;\n",
              "      --disabled-bg-color: #3B4455;\n",
              "      --disabled-fill-color: #666;\n",
              "  }\n",
              "\n",
              "  .colab-df-quickchart {\n",
              "    background-color: var(--bg-color);\n",
              "    border: none;\n",
              "    border-radius: 50%;\n",
              "    cursor: pointer;\n",
              "    display: none;\n",
              "    fill: var(--fill-color);\n",
              "    height: 32px;\n",
              "    padding: 0;\n",
              "    width: 32px;\n",
              "  }\n",
              "\n",
              "  .colab-df-quickchart:hover {\n",
              "    background-color: var(--hover-bg-color);\n",
              "    box-shadow: 0 1px 2px rgba(60, 64, 67, 0.3), 0 1px 3px 1px rgba(60, 64, 67, 0.15);\n",
              "    fill: var(--button-hover-fill-color);\n",
              "  }\n",
              "\n",
              "  .colab-df-quickchart-complete:disabled,\n",
              "  .colab-df-quickchart-complete:disabled:hover {\n",
              "    background-color: var(--disabled-bg-color);\n",
              "    fill: var(--disabled-fill-color);\n",
              "    box-shadow: none;\n",
              "  }\n",
              "\n",
              "  .colab-df-spinner {\n",
              "    border: 2px solid var(--fill-color);\n",
              "    border-color: transparent;\n",
              "    border-bottom-color: var(--fill-color);\n",
              "    animation:\n",
              "      spin 1s steps(1) infinite;\n",
              "  }\n",
              "\n",
              "  @keyframes spin {\n",
              "    0% {\n",
              "      border-color: transparent;\n",
              "      border-bottom-color: var(--fill-color);\n",
              "      border-left-color: var(--fill-color);\n",
              "    }\n",
              "    20% {\n",
              "      border-color: transparent;\n",
              "      border-left-color: var(--fill-color);\n",
              "      border-top-color: var(--fill-color);\n",
              "    }\n",
              "    30% {\n",
              "      border-color: transparent;\n",
              "      border-left-color: var(--fill-color);\n",
              "      border-top-color: var(--fill-color);\n",
              "      border-right-color: var(--fill-color);\n",
              "    }\n",
              "    40% {\n",
              "      border-color: transparent;\n",
              "      border-right-color: var(--fill-color);\n",
              "      border-top-color: var(--fill-color);\n",
              "    }\n",
              "    60% {\n",
              "      border-color: transparent;\n",
              "      border-right-color: var(--fill-color);\n",
              "    }\n",
              "    80% {\n",
              "      border-color: transparent;\n",
              "      border-right-color: var(--fill-color);\n",
              "      border-bottom-color: var(--fill-color);\n",
              "    }\n",
              "    90% {\n",
              "      border-color: transparent;\n",
              "      border-bottom-color: var(--fill-color);\n",
              "    }\n",
              "  }\n",
              "</style>\n",
              "\n",
              "  <script>\n",
              "    async function quickchart(key) {\n",
              "      const quickchartButtonEl =\n",
              "        document.querySelector('#' + key + ' button');\n",
              "      quickchartButtonEl.disabled = true;  // To prevent multiple clicks.\n",
              "      quickchartButtonEl.classList.add('colab-df-spinner');\n",
              "      try {\n",
              "        const charts = await google.colab.kernel.invokeFunction(\n",
              "            'suggestCharts', [key], {});\n",
              "      } catch (error) {\n",
              "        console.error('Error during call to suggestCharts:', error);\n",
              "      }\n",
              "      quickchartButtonEl.classList.remove('colab-df-spinner');\n",
              "      quickchartButtonEl.classList.add('colab-df-quickchart-complete');\n",
              "    }\n",
              "    (() => {\n",
              "      let quickchartButtonEl =\n",
              "        document.querySelector('#df-855ca534-6dd7-4acd-aed1-24e7605f59c9 button');\n",
              "      quickchartButtonEl.style.display =\n",
              "        google.colab.kernel.accessAllowed ? 'block' : 'none';\n",
              "    })();\n",
              "  </script>\n",
              "</div>\n",
              "\n",
              "    </div>\n",
              "  </div>\n"
            ]
          },
          "metadata": {},
          "execution_count": 19
        }
      ]
    },
    {
      "cell_type": "code",
      "source": [
        "# We can't trust the userId and movieId to be numbered 0...N-1\n",
        "# Let's just set our own ids\n",
        "\n",
        "# current_user_id = 0\n",
        "# custom_user_map = {} # old user id > new user id\n",
        "# def map_user_id(row):\n",
        "#   global current_user_id, custom_user_map\n",
        "#   old_user_id = row['userId']\n",
        "#   if old_user_id not in custom_user_map:\n",
        "#     custom_user_map[old_user_id] = current_user_id\n",
        "#     current_user_id += 1\n",
        "#   return custom_user_map[old_user_id]\n",
        "\n",
        "# df['new_user_id'] = df.apply(map_user_id, axis=1)\n",
        "\n",
        "df.userId = pd.Categorical(df.userId)\n",
        "df['new_user_id'] = df.userId.cat.codes"
      ],
      "metadata": {
        "id": "ewJUhg0Azmib"
      },
      "execution_count": null,
      "outputs": []
    },
    {
      "cell_type": "code",
      "source": [
        "# Now do the same thing for movie ids\n",
        "# current_movie_id = 0\n",
        "# custom_movie_map = {} # old movie id > new movie id\n",
        "# def map_movie_id(row):\n",
        "#   global current_movie_id, custom_movie_map\n",
        "#   old_movie_id = row['movieId']\n",
        "#   if old_movie_id not in custom_movie_map:\n",
        "#     custom_movie_map[old_movie_id] = current_movie_id\n",
        "#     current_movie_id += 1\n",
        "#   return custom_movie_map[old_movie_id]\n",
        "\n",
        "# df['new_movie_id'] = df.apply(map_movie_id, axis=1)\n",
        "\n",
        "df.movieId = pd.Categorical(df.movieId)\n",
        "df['new_movie_id'] = df.movieId.cat.codes"
      ],
      "metadata": {
        "id": "qCcvkB71ztmL"
      },
      "execution_count": null,
      "outputs": []
    },
    {
      "cell_type": "code",
      "source": [
        "# Get user IDs, movie IDs, and ratings as separate arrays\n",
        "user_ids = df['new_user_id'].values\n",
        "movie_ids = df['new_movie_id'].values\n",
        "ratings = df['rating'].values"
      ],
      "metadata": {
        "id": "UTEWksIUzx3m"
      },
      "execution_count": null,
      "outputs": []
    },
    {
      "cell_type": "code",
      "source": [
        "# Get number of users and number of movies\n",
        "N = len(set(user_ids))\n",
        "M = len(set(movie_ids))\n",
        "\n",
        "# Set embedding dimension\n",
        "K = 10"
      ],
      "metadata": {
        "id": "VIOqnQd2z0kd"
      },
      "execution_count": null,
      "outputs": []
    },
    {
      "cell_type": "code",
      "source": [
        "# Make a neural network\n",
        "\n",
        "# User input\n",
        "u = Input(shape=(1,))\n",
        "\n",
        "# Movie input\n",
        "m = Input(shape=(1,))\n",
        "\n",
        "# User embedding\n",
        "u_emb = Embedding(N, K)(u) # output is (num_samples, 1, K)\n",
        "\n",
        "# Movie embedding\n",
        "m_emb = Embedding(M, K)(m) # output is (num_samples, 1, K)\n",
        "\n",
        "# Flatten both embeddings\n",
        "u_emb = Flatten()(u_emb) # now it's (num_samples, K)\n",
        "m_emb = Flatten()(m_emb) # now it's (num_samples, K)\n",
        "\n",
        "# Concatenate user-movie embeddings into a feature vector\n",
        "x = Concatenate()([u_emb, m_emb]) # now it's (num_samples, 2K)\n",
        "\n",
        "# Now that we have a feature vector, it's just a regular ANN\n",
        "x = Dense(1024, activation='relu')(x)\n",
        "# x = Dense(400, activation='relu')(x)\n",
        "# x = Dense(400, activation='relu')(x)\n",
        "x = Dense(1)(x)"
      ],
      "metadata": {
        "id": "diZ9w2cFz3Vx"
      },
      "execution_count": null,
      "outputs": []
    },
    {
      "cell_type": "code",
      "source": [
        "# Build the model and compile\n",
        "model = Model(inputs=[u, m], outputs=x)\n",
        "model.compile(\n",
        "  loss='mse',\n",
        "  optimizer=SGD(learning_rate=0.08, momentum=0.9),\n",
        ")"
      ],
      "metadata": {
        "id": "C9QGqMLLz74p"
      },
      "execution_count": null,
      "outputs": []
    },
    {
      "cell_type": "code",
      "source": [
        "# split the data\n",
        "user_ids, movie_ids, ratings = shuffle(user_ids, movie_ids, ratings)\n",
        "Ntrain = int(0.8 * len(ratings))\n",
        "train_user = user_ids[:Ntrain]\n",
        "train_movie = movie_ids[:Ntrain]\n",
        "train_ratings = ratings[:Ntrain]\n",
        "\n",
        "test_user = user_ids[Ntrain:]\n",
        "test_movie = movie_ids[Ntrain:]\n",
        "test_ratings = ratings[Ntrain:]\n",
        "\n",
        "# center the ratings\n",
        "avg_rating = train_ratings.mean()\n",
        "train_ratings = train_ratings - avg_rating\n",
        "test_ratings = test_ratings - avg_rating"
      ],
      "metadata": {
        "id": "6bKRI6zdz-on"
      },
      "execution_count": null,
      "outputs": []
    },
    {
      "cell_type": "code",
      "source": [
        "r = model.fit(\n",
        "  x=[train_user, train_movie],\n",
        "  y=train_ratings,\n",
        "  epochs=25,\n",
        "  batch_size=1024,\n",
        "  verbose=2, # goes a little faster when you don't print the progress bar\n",
        "  validation_data=([test_user, test_movie], test_ratings),\n",
        ")"
      ],
      "metadata": {
        "colab": {
          "base_uri": "https://localhost:8080/"
        },
        "id": "Wn1Whsvg0BMA",
        "outputId": "d563b6df-ad42-4b6c-d0a7-8f41528e26b0"
      },
      "execution_count": null,
      "outputs": [
        {
          "output_type": "stream",
          "name": "stdout",
          "text": [
            "Epoch 1/25\n",
            "15626/15626 - 141s - loss: 0.7654 - val_loss: 0.7143 - 141s/epoch - 9ms/step\n",
            "Epoch 2/25\n",
            "15626/15626 - 140s - loss: 0.6983 - val_loss: 0.6920 - 140s/epoch - 9ms/step\n",
            "Epoch 3/25\n",
            "15626/15626 - 140s - loss: 0.6755 - val_loss: 0.6800 - 140s/epoch - 9ms/step\n",
            "Epoch 4/25\n",
            "15626/15626 - 142s - loss: 0.6621 - val_loss: 0.6743 - 142s/epoch - 9ms/step\n",
            "Epoch 5/25\n",
            "15626/15626 - 139s - loss: 0.6525 - val_loss: 0.6667 - 139s/epoch - 9ms/step\n",
            "Epoch 6/25\n",
            "15626/15626 - 141s - loss: 0.6385 - val_loss: 0.6537 - 141s/epoch - 9ms/step\n",
            "Epoch 7/25\n",
            "15626/15626 - 142s - loss: 0.6214 - val_loss: 0.6481 - 142s/epoch - 9ms/step\n",
            "Epoch 8/25\n",
            "15626/15626 - 139s - loss: 0.6098 - val_loss: 0.6419 - 139s/epoch - 9ms/step\n",
            "Epoch 9/25\n",
            "15626/15626 - 140s - loss: 0.6008 - val_loss: 0.6402 - 140s/epoch - 9ms/step\n",
            "Epoch 10/25\n",
            "15626/15626 - 140s - loss: 0.5925 - val_loss: 0.6364 - 140s/epoch - 9ms/step\n",
            "Epoch 11/25\n",
            "15626/15626 - 138s - loss: 0.5844 - val_loss: 0.6396 - 138s/epoch - 9ms/step\n",
            "Epoch 12/25\n",
            "15626/15626 - 137s - loss: 0.5762 - val_loss: 0.6291 - 137s/epoch - 9ms/step\n",
            "Epoch 13/25\n",
            "15626/15626 - 138s - loss: 0.5683 - val_loss: 0.6275 - 138s/epoch - 9ms/step\n",
            "Epoch 14/25\n",
            "15626/15626 - 142s - loss: 0.5615 - val_loss: 0.6276 - 142s/epoch - 9ms/step\n",
            "Epoch 15/25\n",
            "15626/15626 - 142s - loss: 0.5559 - val_loss: 0.6233 - 142s/epoch - 9ms/step\n",
            "Epoch 16/25\n",
            "15626/15626 - 140s - loss: 0.5514 - val_loss: 0.6253 - 140s/epoch - 9ms/step\n",
            "Epoch 17/25\n",
            "15626/15626 - 138s - loss: 0.5477 - val_loss: 0.6235 - 138s/epoch - 9ms/step\n",
            "Epoch 18/25\n",
            "15626/15626 - 138s - loss: 0.5445 - val_loss: 0.6237 - 138s/epoch - 9ms/step\n",
            "Epoch 19/25\n",
            "15626/15626 - 141s - loss: 0.5418 - val_loss: 0.6215 - 141s/epoch - 9ms/step\n",
            "Epoch 20/25\n",
            "15626/15626 - 138s - loss: 0.5394 - val_loss: 0.6212 - 138s/epoch - 9ms/step\n",
            "Epoch 21/25\n",
            "15626/15626 - 137s - loss: 0.5373 - val_loss: 0.6229 - 137s/epoch - 9ms/step\n",
            "Epoch 22/25\n",
            "15626/15626 - 141s - loss: 0.5354 - val_loss: 0.6244 - 141s/epoch - 9ms/step\n",
            "Epoch 23/25\n",
            "15626/15626 - 140s - loss: 0.5337 - val_loss: 0.6230 - 140s/epoch - 9ms/step\n",
            "Epoch 24/25\n",
            "15626/15626 - 137s - loss: 0.5322 - val_loss: 0.6255 - 137s/epoch - 9ms/step\n",
            "Epoch 25/25\n",
            "15626/15626 - 140s - loss: 0.5308 - val_loss: 0.6248 - 140s/epoch - 9ms/step\n"
          ]
        }
      ]
    },
    {
      "cell_type": "code",
      "source": [
        "# plot losses\n",
        "plt.plot(r.history['loss'], label=\"train loss\")\n",
        "plt.plot(r.history['val_loss'], label=\"val loss\")\n",
        "plt.legend()\n",
        "plt.show()"
      ],
      "metadata": {
        "id": "K3gVe5Mb0Dxg",
        "colab": {
          "base_uri": "https://localhost:8080/",
          "height": 430
        },
        "outputId": "56845ab1-3478-48b4-8f98-6e3fbced13c2"
      },
      "execution_count": null,
      "outputs": [
        {
          "output_type": "display_data",
          "data": {
            "text/plain": [
              "<Figure size 640x480 with 1 Axes>"
            ],
            "image/png": "[encoded data removed]"
          },
          "metadata": {}
        }
      ]
    },
    {
      "cell_type": "code",
      "source": [
        "# is this on par with other approaches?\n",
        "# https://datascience.stackexchange.com/questions/29740/benchmark-result-for-movielens-dataset\n",
        "np.sqrt(0.6259)"
      ],
      "metadata": {
        "colab": {
          "base_uri": "https://localhost:8080/"
        },
        "id": "RQbNFULrDNTg",
        "outputId": "23e56ee8-001a-407f-f0ca-afb6f5395a72"
      },
      "execution_count": null,
      "outputs": [
        {
          "output_type": "execute_result",
          "data": {
            "text/plain": [
              "0.7911384202527394"
            ]
          },
          "metadata": {},
          "execution_count": 29
        }
      ]
    },
    {
      "cell_type": "code",
      "source": [],
      "metadata": {
        "id": "yQNuTa_mDTKt"
      },
      "execution_count": null,
      "outputs": []
    }
  ]
}